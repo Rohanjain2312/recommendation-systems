{
 "cells": [
  {
   "cell_type": "code",
   "execution_count": null,
   "metadata": {},
   "outputs": [
    {
     "name": "stderr",
     "output_type": "stream",
     "text": [
      "/opt/homebrew/lib/python3.11/site-packages/lightfm/_lightfm_fast.py:9: UserWarning: LightFM was compiled without OpenMP support. Only a single thread will be used.\n",
      "  warnings.warn(\n"
     ]
    },
    {
     "data": {
      "text/plain": [
       "<lightfm.lightfm.LightFM at 0x122ba4050>"
      ]
     },
     "execution_count": 1,
     "metadata": {},
     "output_type": "execute_result"
    }
   ],
   "source": [
    "from lightfm import LightFM\n",
    "from lightfm.data import Dataset\n",
    "import pandas as pd\n",
    "\n",
    "# Prepare dataset\n",
    "df = pd.read_csv(\"temp.csv\")\n",
    "dataset = Dataset()\n",
    "dataset.fit(df['user'], df['name'])\n",
    "\n",
    "(interactions, weights) = dataset.build_interactions([(row['user'], row['name'], row['rating']) for _, row in df.iterrows()])\n",
    "\n",
    "# Train model\n",
    "model = LightFM(no_components=10, loss='bpr')  # 'warp' good for implicit, use 'mse' or 'logistic' for explicit\n",
    "model.fit(interactions, epochs=30, num_threads=4)"
   ]
  },
  {
   "cell_type": "code",
   "execution_count": 4,
   "metadata": {},
   "outputs": [
    {
     "name": "stdout",
     "output_type": "stream",
     "text": [
      "Precision: 0.99840003\n"
     ]
    }
   ],
   "source": [
    "from lightfm.evaluation import precision_at_k\n",
    "\n",
    "print(\"Precision:\", precision_at_k(model, interactions, k=10).mean())\n"
   ]
  },
  {
   "cell_type": "code",
   "execution_count": null,
   "metadata": {},
   "outputs": [
    {
     "name": "stdout",
     "output_type": "stream",
     "text": [
      "Top recommendations: ['user83', 'user60', 'user95', 'user72', 'user66']\n"
     ]
    }
   ],
   "source": [
    "import numpy as np\n",
    "\n",
    "user_id = 0  # internal LightFM ID\n",
    "n_items = interactions.shape[1]\n",
    "\n",
    "scores = model.predict(user_id, np.arange(n_items))\n",
    "top_items = np.argsort(-scores)\n",
    "\n",
    "# To map back to original names:\n",
    "user_id_map, item_id_map, _, _ = dataset.mapping()\n",
    "reverse_item_map = {v: k for k, v in item_id_map.items()}\n",
    "recommended_items = [reverse_item_map[i] for i in top_items[:5]]\n",
    "print(\"Top recommendations:\", recommended_items)\n"
   ]
  },
  {
   "cell_type": "code",
   "execution_count": null,
   "metadata": {},
   "outputs": [],
   "source": []
  }
 ],
 "metadata": {
  "kernelspec": {
   "display_name": "Python 3",
   "language": "python",
   "name": "python3"
  },
  "language_info": {
   "codemirror_mode": {
    "name": "ipython",
    "version": 3
   },
   "file_extension": ".py",
   "mimetype": "text/x-python",
   "name": "python",
   "nbconvert_exporter": "python",
   "pygments_lexer": "ipython3",
   "version": "3.11.4"
  }
 },
 "nbformat": 4,
 "nbformat_minor": 2
}
