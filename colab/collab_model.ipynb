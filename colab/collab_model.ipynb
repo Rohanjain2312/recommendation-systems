{
 "cells": [
  {
   "cell_type": "code",
   "execution_count": 1,
   "metadata": {},
   "outputs": [
    {
     "name": "stderr",
     "output_type": "stream",
     "text": [
      "/opt/homebrew/lib/python3.11/site-packages/lightfm/_lightfm_fast.py:9: UserWarning: LightFM was compiled without OpenMP support. Only a single thread will be used.\n",
      "  warnings.warn(\n"
     ]
    },
    {
     "data": {
      "text/plain": [
       "<lightfm.lightfm.LightFM at 0x11dd517d0>"
      ]
     },
     "execution_count": 1,
     "metadata": {},
     "output_type": "execute_result"
    }
   ],
   "source": [
    "from lightfm import LightFM\n",
    "from lightfm.data import Dataset\n",
    "import pandas as pd\n",
    "import numpy as np\n",
    "\n",
    "# Prepare dataset\n",
    "df = pd.read_csv(\"temp.csv\")\n",
    "dataset = Dataset()\n",
    "dataset.fit(df['user'], df['name'])\n",
    "\n",
    "(interactions, weights) = dataset.build_interactions([(row['user'], row['name'], row['rating']) for _, row in df.iterrows()])\n",
    "\n",
    "# Train model\n",
    "model = LightFM(no_components=10, loss='warp')  # 'warp' good for implicit, use 'mse' or 'logistic' for explicit\n",
    "model.fit(interactions, epochs=30, num_threads=4)"
   ]
  },
  {
   "cell_type": "code",
   "execution_count": 2,
   "metadata": {},
   "outputs": [
    {
     "name": "stdout",
     "output_type": "stream",
     "text": [
      "Precision: 0.9200001\n"
     ]
    }
   ],
   "source": [
    "from lightfm.evaluation import precision_at_k\n",
    "\n",
    "print(\"Precision:\", precision_at_k(model, interactions, k=5).mean())\n"
   ]
  },
  {
   "cell_type": "code",
   "execution_count": 11,
   "metadata": {},
   "outputs": [
    {
     "data": {
      "text/plain": [
       "{'user5': ['VEGA Smooth Curl 19 mm Barrel Hair Curler With Adjustable Temperature & Ceramic Coated Plates, (VHCH-03)',\n",
       "  'BY4U Laptop Tabletop Stand for Desk, Portable Stand, Adjustable Height, Foldable, Non-Slip Aluminum MacBook Computer Stan...',\n",
       "  \"GoSriKi Women's Cotton Blend Kurta with Palazzo & Dupatta\",\n",
       "  'SHREGO Peanut Plus Roasted Peanut Salted 360G, Snack and Namkeen (2X180G Vacuum Packed)',\n",
       "  'Apple Watch SE (GPS + Cellular, 44mm) - Space Grey Aluminium Case with Midnight Sport Band - Regular']}"
      ]
     },
     "execution_count": 11,
     "metadata": {},
     "output_type": "execute_result"
    }
   ],
   "source": [
    "def recommend_items(model, dataset, df, user_id, N=5):\n",
    "    n_users, n_items = interactions.shape\n",
    "    user_index = dataset.mapping()[0][user_id]\n",
    "    item_mapping = {v: k for k, v in dataset.mapping()[2].items()}\n",
    "\n",
    "    scores = model.predict(user_index, np.arange(n_items))\n",
    "    top_items = np.argsort(-scores)[:N]\n",
    "\n",
    "    return {user_id: [item_mapping[i] for i in top_items]}\n",
    "\n",
    "# Example usage:\n",
    "recommend_items(model, dataset, df, user_id='user5')\n"
   ]
  },
  {
   "cell_type": "code",
   "execution_count": null,
   "metadata": {},
   "outputs": [],
   "source": []
  }
 ],
 "metadata": {
  "kernelspec": {
   "display_name": "Python 3",
   "language": "python",
   "name": "python3"
  },
  "language_info": {
   "codemirror_mode": {
    "name": "ipython",
    "version": 3
   },
   "file_extension": ".py",
   "mimetype": "text/x-python",
   "name": "python",
   "nbconvert_exporter": "python",
   "pygments_lexer": "ipython3",
   "version": "3.13.3"
  }
 },
 "nbformat": 4,
 "nbformat_minor": 2
}
